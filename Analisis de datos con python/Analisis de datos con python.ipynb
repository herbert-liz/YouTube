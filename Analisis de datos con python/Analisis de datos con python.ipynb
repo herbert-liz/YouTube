{
 "cells": [
  {
   "cell_type": "markdown",
   "metadata": {},
   "source": [
    "## **Análisis de datos con python**\n",
    "Aprenderemos el proceso de analisis de datos en python utilizando datos de ventas.\n",
    "\n",
    "El objetivo es encontrar relación entre las ventas y las variables dadas, de tal forma que podamos ayudar en la toma de decisiones."
   ]
  },
  {
   "cell_type": "markdown",
   "metadata": {},
   "source": [
    "#### Librerias y datos"
   ]
  },
  {
   "cell_type": "code",
   "execution_count": 2,
   "metadata": {},
   "outputs": [],
   "source": [
    "# Librerias\n",
    "import pandas as pd # Manipulacion de datos\n",
    "import numpy as np # Operaciones numericas\n",
    "import kagglehub # Descargar datos de kaggle\n",
    "\n",
    "# Establecemos el formato de los resultados numericos\n",
    "pd.set_option('display.float_format', '{:,.2f}'.format)"
   ]
  },
  {
   "cell_type": "code",
   "execution_count": 3,
   "metadata": {},
   "outputs": [
    {
     "name": "stdout",
     "output_type": "stream",
     "text": [
      "Ruta del dataset: C:\\Users\\herbe\\.cache\\kagglehub\\datasets\\mikhail1681\\walmart-sales\\versions\\2\n"
     ]
    }
   ],
   "source": [
    "# Descargamos datos\n",
    "path = kagglehub.dataset_download(\"mikhail1681/walmart-sales\")\n",
    "print(\"Ruta del dataset:\", path)"
   ]
  },
  {
   "cell_type": "code",
   "execution_count": 4,
   "metadata": {},
   "outputs": [],
   "source": [
    "# Cargamos datos\n",
    "datos = pd.read_csv(path + '/Walmart_Sales.csv')"
   ]
  },
  {
   "cell_type": "markdown",
   "metadata": {},
   "source": [
    "#### Exploración superficial y limpieza de datos\n",
    "Con superficialmente nos referimos a revisar:\n",
    "\n",
    "1. Número de variables y registros\n",
    "2. El tipo de variable (fechas, texto, numericas)\n",
    "3. Valores nulos\n",
    "4. Visualizar algunos registros\n",
    "\n",
    "> En este paso lo importante es conocer la estructura de nuestros datos y su integridad"
   ]
  },
  {
   "cell_type": "code",
   "execution_count": 5,
   "metadata": {},
   "outputs": [
    {
     "data": {
      "text/html": [
       "<div>\n",
       "<style scoped>\n",
       "    .dataframe tbody tr th:only-of-type {\n",
       "        vertical-align: middle;\n",
       "    }\n",
       "\n",
       "    .dataframe tbody tr th {\n",
       "        vertical-align: top;\n",
       "    }\n",
       "\n",
       "    .dataframe thead th {\n",
       "        text-align: right;\n",
       "    }\n",
       "</style>\n",
       "<table border=\"1\" class=\"dataframe\">\n",
       "  <thead>\n",
       "    <tr style=\"text-align: right;\">\n",
       "      <th></th>\n",
       "      <th>Store</th>\n",
       "      <th>Date</th>\n",
       "      <th>Weekly_Sales</th>\n",
       "      <th>Holiday_Flag</th>\n",
       "      <th>Temperature</th>\n",
       "      <th>Fuel_Price</th>\n",
       "      <th>CPI</th>\n",
       "      <th>Unemployment</th>\n",
       "    </tr>\n",
       "  </thead>\n",
       "  <tbody>\n",
       "    <tr>\n",
       "      <th>0</th>\n",
       "      <td>1</td>\n",
       "      <td>05-02-2010</td>\n",
       "      <td>1,643,690.90</td>\n",
       "      <td>0</td>\n",
       "      <td>42.31</td>\n",
       "      <td>2.57</td>\n",
       "      <td>211.10</td>\n",
       "      <td>8.11</td>\n",
       "    </tr>\n",
       "    <tr>\n",
       "      <th>1</th>\n",
       "      <td>1</td>\n",
       "      <td>12-02-2010</td>\n",
       "      <td>1,641,957.44</td>\n",
       "      <td>1</td>\n",
       "      <td>38.51</td>\n",
       "      <td>2.55</td>\n",
       "      <td>211.24</td>\n",
       "      <td>8.11</td>\n",
       "    </tr>\n",
       "    <tr>\n",
       "      <th>2</th>\n",
       "      <td>1</td>\n",
       "      <td>19-02-2010</td>\n",
       "      <td>1,611,968.17</td>\n",
       "      <td>0</td>\n",
       "      <td>39.93</td>\n",
       "      <td>2.51</td>\n",
       "      <td>211.29</td>\n",
       "      <td>8.11</td>\n",
       "    </tr>\n",
       "    <tr>\n",
       "      <th>3</th>\n",
       "      <td>1</td>\n",
       "      <td>26-02-2010</td>\n",
       "      <td>1,409,727.59</td>\n",
       "      <td>0</td>\n",
       "      <td>46.63</td>\n",
       "      <td>2.56</td>\n",
       "      <td>211.32</td>\n",
       "      <td>8.11</td>\n",
       "    </tr>\n",
       "    <tr>\n",
       "      <th>4</th>\n",
       "      <td>1</td>\n",
       "      <td>05-03-2010</td>\n",
       "      <td>1,554,806.68</td>\n",
       "      <td>0</td>\n",
       "      <td>46.50</td>\n",
       "      <td>2.62</td>\n",
       "      <td>211.35</td>\n",
       "      <td>8.11</td>\n",
       "    </tr>\n",
       "  </tbody>\n",
       "</table>\n",
       "</div>"
      ],
      "text/plain": [
       "   Store        Date  Weekly_Sales  Holiday_Flag  Temperature  Fuel_Price  \\\n",
       "0      1  05-02-2010  1,643,690.90             0        42.31        2.57   \n",
       "1      1  12-02-2010  1,641,957.44             1        38.51        2.55   \n",
       "2      1  19-02-2010  1,611,968.17             0        39.93        2.51   \n",
       "3      1  26-02-2010  1,409,727.59             0        46.63        2.56   \n",
       "4      1  05-03-2010  1,554,806.68             0        46.50        2.62   \n",
       "\n",
       "     CPI  Unemployment  \n",
       "0 211.10          8.11  \n",
       "1 211.24          8.11  \n",
       "2 211.29          8.11  \n",
       "3 211.32          8.11  \n",
       "4 211.35          8.11  "
      ]
     },
     "execution_count": 5,
     "metadata": {},
     "output_type": "execute_result"
    }
   ],
   "source": [
    "# Revisamos primeros 5 registros del dataframe\n",
    "datos.head(5)"
   ]
  },
  {
   "cell_type": "code",
   "execution_count": 6,
   "metadata": {},
   "outputs": [
    {
     "name": "stdout",
     "output_type": "stream",
     "text": [
      "<class 'pandas.core.frame.DataFrame'>\n",
      "RangeIndex: 6435 entries, 0 to 6434\n",
      "Data columns (total 8 columns):\n",
      " #   Column        Non-Null Count  Dtype  \n",
      "---  ------        --------------  -----  \n",
      " 0   Store         6435 non-null   int64  \n",
      " 1   Date          6435 non-null   object \n",
      " 2   Weekly_Sales  6435 non-null   float64\n",
      " 3   Holiday_Flag  6435 non-null   int64  \n",
      " 4   Temperature   6435 non-null   float64\n",
      " 5   Fuel_Price    6435 non-null   float64\n",
      " 6   CPI           6435 non-null   float64\n",
      " 7   Unemployment  6435 non-null   float64\n",
      "dtypes: float64(5), int64(2), object(1)\n",
      "memory usage: 402.3+ KB\n"
     ]
    }
   ],
   "source": [
    "# Numero de columnas, registros, nulos y tipo de datos\n",
    "datos.info()"
   ]
  },
  {
   "cell_type": "code",
   "execution_count": 7,
   "metadata": {},
   "outputs": [],
   "source": [
    "# Convertimos Date a variable de fecha\n",
    "datos['Date'] = pd.to_datetime(datos['Date'],format=\"%d-%m-%Y\")"
   ]
  },
  {
   "cell_type": "markdown",
   "metadata": {},
   "source": [
    "#### **Exploración de datos**\n",
    "Como buenos analistas de datos, algunas preguntas que quisieramos contestar son las siguientes:\n",
    "1. ¿La fecha o temporada se relaciona con las ventas?\n",
    "2. ¿Hay algún efecto en las ventas durante las fechas festivas?\n",
    "3. ¿Existe relación entre las ventas y la temperatura, precio del combustible, CPI y tasa de desempleo?\n",
    "4. ¿Hay alguna tienda (store) con algún comportamiento relevante (baja en las ventas o viceversa)?"
   ]
  },
  {
   "cell_type": "markdown",
   "metadata": {},
   "source": [
    "##### ¿La fecha o temporada se relaciona con las ventas?"
   ]
  },
  {
   "cell_type": "code",
   "execution_count": 8,
   "metadata": {},
   "outputs": [],
   "source": [
    "# Ventas mensuales totales\n",
    "datos['fecha_mes'] = datos['Date'].dt.to_period('M').astype(str)\n",
    "\n",
    "# Agrupamos ventas por fecha mes\n",
    "ventas_mensuales = datos.groupby('fecha_mes')['Weekly_Sales'].sum().reset_index()\n",
    "ventas_mensuales = ventas_mensuales.rename(columns={'Weekly_Sales':'ventas'})\n",
    " \n",
    "# Como las ventas totales son muy elevadas, convertimos los totales a ventas en millones\n",
    "ventas_mensuales['ventas_millones'] = np.round(ventas_mensuales['ventas']/1000000,2)"
   ]
  },
  {
   "cell_type": "code",
   "execution_count": 9,
   "metadata": {},
   "outputs": [
    {
     "data": {
      "text/html": [
       "<div>\n",
       "<style scoped>\n",
       "    .dataframe tbody tr th:only-of-type {\n",
       "        vertical-align: middle;\n",
       "    }\n",
       "\n",
       "    .dataframe tbody tr th {\n",
       "        vertical-align: top;\n",
       "    }\n",
       "\n",
       "    .dataframe thead th {\n",
       "        text-align: right;\n",
       "    }\n",
       "</style>\n",
       "<table border=\"1\" class=\"dataframe\">\n",
       "  <thead>\n",
       "    <tr style=\"text-align: right;\">\n",
       "      <th></th>\n",
       "      <th>fecha_mes</th>\n",
       "      <th>ventas</th>\n",
       "      <th>ventas_millones</th>\n",
       "    </tr>\n",
       "  </thead>\n",
       "  <tbody>\n",
       "    <tr>\n",
       "      <th>0</th>\n",
       "      <td>2010-02</td>\n",
       "      <td>190,332,983.04</td>\n",
       "      <td>190.33</td>\n",
       "    </tr>\n",
       "    <tr>\n",
       "      <th>1</th>\n",
       "      <td>2010-03</td>\n",
       "      <td>181,919,802.50</td>\n",
       "      <td>181.92</td>\n",
       "    </tr>\n",
       "    <tr>\n",
       "      <th>2</th>\n",
       "      <td>2010-04</td>\n",
       "      <td>231,412,368.05</td>\n",
       "      <td>231.41</td>\n",
       "    </tr>\n",
       "    <tr>\n",
       "      <th>3</th>\n",
       "      <td>2010-05</td>\n",
       "      <td>186,710,934.34</td>\n",
       "      <td>186.71</td>\n",
       "    </tr>\n",
       "    <tr>\n",
       "      <th>4</th>\n",
       "      <td>2010-06</td>\n",
       "      <td>192,246,172.36</td>\n",
       "      <td>192.25</td>\n",
       "    </tr>\n",
       "  </tbody>\n",
       "</table>\n",
       "</div>"
      ],
      "text/plain": [
       "  fecha_mes         ventas  ventas_millones\n",
       "0   2010-02 190,332,983.04           190.33\n",
       "1   2010-03 181,919,802.50           181.92\n",
       "2   2010-04 231,412,368.05           231.41\n",
       "3   2010-05 186,710,934.34           186.71\n",
       "4   2010-06 192,246,172.36           192.25"
      ]
     },
     "execution_count": 9,
     "metadata": {},
     "output_type": "execute_result"
    }
   ],
   "source": [
    "ventas_mensuales.head()"
   ]
  },
  {
   "cell_type": "code",
   "execution_count": 10,
   "metadata": {},
   "outputs": [
    {
     "data": {
      "image/png": "[encoded data removed]",
      "text/plain": [
       "<Figure size 1200x500 with 1 Axes>"
      ]
     },
     "metadata": {},
     "output_type": "display_data"
    }
   ],
   "source": [
    "# Graficar las ventas mensuales\n",
    "import matplotlib.pyplot as plt\n",
    "\n",
    "plt.figure(figsize=(12, 5))\n",
    "plt.plot(ventas_mensuales['fecha_mes'], ventas_mensuales['ventas_millones'], marker='o', label='Ventas mensuales')\n",
    "plt.xticks(rotation=90)  # Rotar etiquetas en el eje x\n",
    "plt.title('Ventas mensuales', fontsize=15,fontweight='bold') # Insetar titulo en negritas\n",
    "plt.xlabel('Mes', fontsize=12,fontweight='bold') # Titulo eje x en negritas\n",
    "plt.ylabel('Ventas en millones', fontsize=12,fontweight='bold') # Titulo eje y en negritas\n",
    "plt.grid(True) # Lineas guia \n",
    "plt.show()"
   ]
  },
  {
   "cell_type": "markdown",
   "metadata": {},
   "source": [
    "##### ¿Hay algún efecto en las ventas durante las fechas festivas?"
   ]
  },
  {
   "cell_type": "code",
   "execution_count": 11,
   "metadata": {},
   "outputs": [
    {
     "data": {
      "text/html": [
       "<div>\n",
       "<style scoped>\n",
       "    .dataframe tbody tr th:only-of-type {\n",
       "        vertical-align: middle;\n",
       "    }\n",
       "\n",
       "    .dataframe tbody tr th {\n",
       "        vertical-align: top;\n",
       "    }\n",
       "\n",
       "    .dataframe thead th {\n",
       "        text-align: right;\n",
       "    }\n",
       "</style>\n",
       "<table border=\"1\" class=\"dataframe\">\n",
       "  <thead>\n",
       "    <tr style=\"text-align: right;\">\n",
       "      <th></th>\n",
       "      <th>Store</th>\n",
       "      <th>Date</th>\n",
       "      <th>Weekly_Sales</th>\n",
       "      <th>Holiday_Flag</th>\n",
       "      <th>Temperature</th>\n",
       "      <th>Fuel_Price</th>\n",
       "      <th>CPI</th>\n",
       "      <th>Unemployment</th>\n",
       "      <th>fecha_mes</th>\n",
       "    </tr>\n",
       "  </thead>\n",
       "  <tbody>\n",
       "    <tr>\n",
       "      <th>1</th>\n",
       "      <td>1</td>\n",
       "      <td>2010-02-12</td>\n",
       "      <td>1,641,957.44</td>\n",
       "      <td>1</td>\n",
       "      <td>38.51</td>\n",
       "      <td>2.55</td>\n",
       "      <td>211.24</td>\n",
       "      <td>8.11</td>\n",
       "      <td>2010-02</td>\n",
       "    </tr>\n",
       "    <tr>\n",
       "      <th>31</th>\n",
       "      <td>1</td>\n",
       "      <td>2010-09-10</td>\n",
       "      <td>1,507,460.69</td>\n",
       "      <td>1</td>\n",
       "      <td>78.69</td>\n",
       "      <td>2.56</td>\n",
       "      <td>211.50</td>\n",
       "      <td>7.79</td>\n",
       "      <td>2010-09</td>\n",
       "    </tr>\n",
       "    <tr>\n",
       "      <th>42</th>\n",
       "      <td>1</td>\n",
       "      <td>2010-11-26</td>\n",
       "      <td>1,955,624.11</td>\n",
       "      <td>1</td>\n",
       "      <td>64.52</td>\n",
       "      <td>2.73</td>\n",
       "      <td>211.75</td>\n",
       "      <td>7.84</td>\n",
       "      <td>2010-11</td>\n",
       "    </tr>\n",
       "    <tr>\n",
       "      <th>47</th>\n",
       "      <td>1</td>\n",
       "      <td>2010-12-31</td>\n",
       "      <td>1,367,320.01</td>\n",
       "      <td>1</td>\n",
       "      <td>48.43</td>\n",
       "      <td>2.94</td>\n",
       "      <td>211.40</td>\n",
       "      <td>7.84</td>\n",
       "      <td>2010-12</td>\n",
       "    </tr>\n",
       "    <tr>\n",
       "      <th>53</th>\n",
       "      <td>1</td>\n",
       "      <td>2011-02-11</td>\n",
       "      <td>1,649,614.93</td>\n",
       "      <td>1</td>\n",
       "      <td>36.39</td>\n",
       "      <td>3.02</td>\n",
       "      <td>212.94</td>\n",
       "      <td>7.74</td>\n",
       "      <td>2011-02</td>\n",
       "    </tr>\n",
       "  </tbody>\n",
       "</table>\n",
       "</div>"
      ],
      "text/plain": [
       "    Store       Date  Weekly_Sales  Holiday_Flag  Temperature  Fuel_Price  \\\n",
       "1       1 2010-02-12  1,641,957.44             1        38.51        2.55   \n",
       "31      1 2010-09-10  1,507,460.69             1        78.69        2.56   \n",
       "42      1 2010-11-26  1,955,624.11             1        64.52        2.73   \n",
       "47      1 2010-12-31  1,367,320.01             1        48.43        2.94   \n",
       "53      1 2011-02-11  1,649,614.93             1        36.39        3.02   \n",
       "\n",
       "      CPI  Unemployment fecha_mes  \n",
       "1  211.24          8.11   2010-02  \n",
       "31 211.50          7.79   2010-09  \n",
       "42 211.75          7.84   2010-11  \n",
       "47 211.40          7.84   2010-12  \n",
       "53 212.94          7.74   2011-02  "
      ]
     },
     "execution_count": 11,
     "metadata": {},
     "output_type": "execute_result"
    }
   ],
   "source": [
    "datos[datos['Holiday_Flag']==1].head()"
   ]
  },
  {
   "cell_type": "code",
   "execution_count": 12,
   "metadata": {},
   "outputs": [
    {
     "name": "stdout",
     "output_type": "stream",
     "text": [
      "Ventas promedio durante dias festivos: 1122888\n",
      "Ventas promedio durante dias sin festividad: 1041256\n",
      "En promedio, las ventas en dias festivos son un 0.08 mayores\n"
     ]
    }
   ],
   "source": [
    "# Ventas promedio\n",
    "holiday_mean_sales = datos[datos['Holiday_Flag']==1]['Weekly_Sales'].mean()\n",
    "notHoliday_mean_sales = datos[datos['Holiday_Flag']==0]['Weekly_Sales'].mean()\n",
    "\n",
    "print('Ventas promedio durante dias festivos:',round(holiday_mean_sales))\n",
    "print('Ventas promedio durante dias sin festividad:',round(notHoliday_mean_sales))\n",
    "print('En promedio, las ventas en dias festivos son un', round(holiday_mean_sales/notHoliday_mean_sales - 1,2),'mayores')"
   ]
  },
  {
   "cell_type": "markdown",
   "metadata": {},
   "source": [
    "##### ¿Existe relación entre las ventas y la temperatura, precio del combustible, CPI y tasa de desempleo?"
   ]
  },
  {
   "cell_type": "code",
   "execution_count": 13,
   "metadata": {},
   "outputs": [
    {
     "data": {
      "text/html": [
       "<div>\n",
       "<style scoped>\n",
       "    .dataframe tbody tr th:only-of-type {\n",
       "        vertical-align: middle;\n",
       "    }\n",
       "\n",
       "    .dataframe tbody tr th {\n",
       "        vertical-align: top;\n",
       "    }\n",
       "\n",
       "    .dataframe thead th {\n",
       "        text-align: right;\n",
       "    }\n",
       "</style>\n",
       "<table border=\"1\" class=\"dataframe\">\n",
       "  <thead>\n",
       "    <tr style=\"text-align: right;\">\n",
       "      <th></th>\n",
       "      <th>Weekly_Sales</th>\n",
       "      <th>Temperature</th>\n",
       "      <th>Fuel_Price</th>\n",
       "      <th>CPI</th>\n",
       "      <th>Unemployment</th>\n",
       "    </tr>\n",
       "  </thead>\n",
       "  <tbody>\n",
       "    <tr>\n",
       "      <th>Weekly_Sales</th>\n",
       "      <td>1.00</td>\n",
       "      <td>-0.06</td>\n",
       "      <td>0.01</td>\n",
       "      <td>-0.07</td>\n",
       "      <td>-0.11</td>\n",
       "    </tr>\n",
       "    <tr>\n",
       "      <th>Temperature</th>\n",
       "      <td>-0.06</td>\n",
       "      <td>1.00</td>\n",
       "      <td>0.14</td>\n",
       "      <td>0.18</td>\n",
       "      <td>0.10</td>\n",
       "    </tr>\n",
       "    <tr>\n",
       "      <th>Fuel_Price</th>\n",
       "      <td>0.01</td>\n",
       "      <td>0.14</td>\n",
       "      <td>1.00</td>\n",
       "      <td>-0.17</td>\n",
       "      <td>-0.03</td>\n",
       "    </tr>\n",
       "    <tr>\n",
       "      <th>CPI</th>\n",
       "      <td>-0.07</td>\n",
       "      <td>0.18</td>\n",
       "      <td>-0.17</td>\n",
       "      <td>1.00</td>\n",
       "      <td>-0.30</td>\n",
       "    </tr>\n",
       "    <tr>\n",
       "      <th>Unemployment</th>\n",
       "      <td>-0.11</td>\n",
       "      <td>0.10</td>\n",
       "      <td>-0.03</td>\n",
       "      <td>-0.30</td>\n",
       "      <td>1.00</td>\n",
       "    </tr>\n",
       "  </tbody>\n",
       "</table>\n",
       "</div>"
      ],
      "text/plain": [
       "              Weekly_Sales  Temperature  Fuel_Price   CPI  Unemployment\n",
       "Weekly_Sales          1.00        -0.06        0.01 -0.07         -0.11\n",
       "Temperature          -0.06         1.00        0.14  0.18          0.10\n",
       "Fuel_Price            0.01         0.14        1.00 -0.17         -0.03\n",
       "CPI                  -0.07         0.18       -0.17  1.00         -0.30\n",
       "Unemployment         -0.11         0.10       -0.03 -0.30          1.00"
      ]
     },
     "execution_count": 13,
     "metadata": {},
     "output_type": "execute_result"
    }
   ],
   "source": [
    "variables = ['Weekly_Sales','Temperature','Fuel_Price','CPI','Unemployment']\n",
    "datos[variables].corr()"
   ]
  },
  {
   "cell_type": "code",
   "execution_count": 14,
   "metadata": {},
   "outputs": [
    {
     "data": {
      "image/png": "[encoded data removed]",
      "text/plain": [
       "<Figure size 800x600 with 2 Axes>"
      ]
     },
     "metadata": {},
     "output_type": "display_data"
    }
   ],
   "source": [
    "# Matriz de correlacion\n",
    "import seaborn as sns\n",
    "\n",
    "variables = ['Weekly_Sales','Temperature','Fuel_Price','CPI','Unemployment']\n",
    "matriz_cor = datos[variables].corr()\n",
    "\n",
    "plt.figure(figsize=(8, 6))\n",
    "sns.heatmap(matriz_cor, annot=True, cmap='coolwarm', fmt=\".2f\")\n",
    "plt.title('Correlation Heatmap')\n",
    "plt.show()"
   ]
  },
  {
   "cell_type": "code",
   "execution_count": 15,
   "metadata": {},
   "outputs": [
    {
     "name": "stderr",
     "output_type": "stream",
     "text": [
      "C:\\Users\\herbe\\AppData\\Local\\Temp\\ipykernel_11120\\2385006530.py:3: FutureWarning: The default of observed=False is deprecated and will be changed to True in a future version of pandas. Pass observed=False to retain current behavior or observed=True to adopt the future default and silence this warning.\n",
      "  datos.groupby('cat_Unemployment')['Weekly_Sales'].mean().reset_index()\n"
     ]
    },
    {
     "data": {
      "text/html": [
       "<div>\n",
       "<style scoped>\n",
       "    .dataframe tbody tr th:only-of-type {\n",
       "        vertical-align: middle;\n",
       "    }\n",
       "\n",
       "    .dataframe tbody tr th {\n",
       "        vertical-align: top;\n",
       "    }\n",
       "\n",
       "    .dataframe thead th {\n",
       "        text-align: right;\n",
       "    }\n",
       "</style>\n",
       "<table border=\"1\" class=\"dataframe\">\n",
       "  <thead>\n",
       "    <tr style=\"text-align: right;\">\n",
       "      <th></th>\n",
       "      <th>cat_Unemployment</th>\n",
       "      <th>Weekly_Sales</th>\n",
       "    </tr>\n",
       "  </thead>\n",
       "  <tbody>\n",
       "    <tr>\n",
       "      <th>0</th>\n",
       "      <td>(3.878, 6.061]</td>\n",
       "      <td>1,153,126.83</td>\n",
       "    </tr>\n",
       "    <tr>\n",
       "      <th>1</th>\n",
       "      <td>(6.061, 6.623]</td>\n",
       "      <td>856,490.67</td>\n",
       "    </tr>\n",
       "    <tr>\n",
       "      <th>2</th>\n",
       "      <td>(6.623, 7.139]</td>\n",
       "      <td>1,109,046.00</td>\n",
       "    </tr>\n",
       "    <tr>\n",
       "      <th>3</th>\n",
       "      <td>(7.139, 7.545]</td>\n",
       "      <td>1,167,299.22</td>\n",
       "    </tr>\n",
       "    <tr>\n",
       "      <th>4</th>\n",
       "      <td>(7.545, 7.874]</td>\n",
       "      <td>1,104,074.79</td>\n",
       "    </tr>\n",
       "    <tr>\n",
       "      <th>5</th>\n",
       "      <td>(7.874, 8.185]</td>\n",
       "      <td>1,162,252.86</td>\n",
       "    </tr>\n",
       "    <tr>\n",
       "      <th>6</th>\n",
       "      <td>(8.185, 8.476]</td>\n",
       "      <td>1,059,020.31</td>\n",
       "    </tr>\n",
       "    <tr>\n",
       "      <th>7</th>\n",
       "      <td>(8.476, 8.876]</td>\n",
       "      <td>1,108,731.28</td>\n",
       "    </tr>\n",
       "    <tr>\n",
       "      <th>8</th>\n",
       "      <td>(8.876, 9.863]</td>\n",
       "      <td>920,337.37</td>\n",
       "    </tr>\n",
       "    <tr>\n",
       "      <th>9</th>\n",
       "      <td>(9.863, 14.313]</td>\n",
       "      <td>835,657.58</td>\n",
       "    </tr>\n",
       "  </tbody>\n",
       "</table>\n",
       "</div>"
      ],
      "text/plain": [
       "  cat_Unemployment  Weekly_Sales\n",
       "0   (3.878, 6.061]  1,153,126.83\n",
       "1   (6.061, 6.623]    856,490.67\n",
       "2   (6.623, 7.139]  1,109,046.00\n",
       "3   (7.139, 7.545]  1,167,299.22\n",
       "4   (7.545, 7.874]  1,104,074.79\n",
       "5   (7.874, 8.185]  1,162,252.86\n",
       "6   (8.185, 8.476]  1,059,020.31\n",
       "7   (8.476, 8.876]  1,108,731.28\n",
       "8   (8.876, 9.863]    920,337.37\n",
       "9  (9.863, 14.313]    835,657.58"
      ]
     },
     "execution_count": 15,
     "metadata": {},
     "output_type": "execute_result"
    }
   ],
   "source": [
    "# Segmentamos variables y analizamos ventas promedio\n",
    "datos['cat_Unemployment'] = pd.qcut(datos['Unemployment'],10)\n",
    "datos.groupby('cat_Unemployment')['Weekly_Sales'].mean().reset_index()"
   ]
  },
  {
   "cell_type": "markdown",
   "metadata": {},
   "source": [
    "##### ¿Hay alguna tienda (store) con algún comportamiento relevante (bajón en ventas o viceversa)?"
   ]
  },
  {
   "cell_type": "code",
   "execution_count": 16,
   "metadata": {},
   "outputs": [
    {
     "name": "stdout",
     "output_type": "stream",
     "text": [
      "Existen 45 distintas\n"
     ]
    }
   ],
   "source": [
    "# Numero de tiendas\n",
    "numTiendas = datos['Store'].nunique()\n",
    "print('Existen',numTiendas,'distintas')"
   ]
  },
  {
   "cell_type": "code",
   "execution_count": 17,
   "metadata": {},
   "outputs": [
    {
     "data": {
      "text/html": [
       "<div>\n",
       "<style scoped>\n",
       "    .dataframe tbody tr th:only-of-type {\n",
       "        vertical-align: middle;\n",
       "    }\n",
       "\n",
       "    .dataframe tbody tr th {\n",
       "        vertical-align: top;\n",
       "    }\n",
       "\n",
       "    .dataframe thead th {\n",
       "        text-align: right;\n",
       "    }\n",
       "</style>\n",
       "<table border=\"1\" class=\"dataframe\">\n",
       "  <thead>\n",
       "    <tr style=\"text-align: right;\">\n",
       "      <th></th>\n",
       "      <th>Store</th>\n",
       "      <th>Date</th>\n",
       "      <th>Weekly_Sales</th>\n",
       "      <th>Holiday_Flag</th>\n",
       "      <th>Temperature</th>\n",
       "      <th>Fuel_Price</th>\n",
       "      <th>CPI</th>\n",
       "      <th>Unemployment</th>\n",
       "      <th>fecha_mes</th>\n",
       "      <th>cat_Unemployment</th>\n",
       "    </tr>\n",
       "  </thead>\n",
       "  <tbody>\n",
       "    <tr>\n",
       "      <th>100</th>\n",
       "      <td>1</td>\n",
       "      <td>2012-01-06</td>\n",
       "      <td>1,550,369.92</td>\n",
       "      <td>0</td>\n",
       "      <td>49.01</td>\n",
       "      <td>3.16</td>\n",
       "      <td>219.71</td>\n",
       "      <td>7.35</td>\n",
       "      <td>2012-01</td>\n",
       "      <td>(7.139, 7.545]</td>\n",
       "    </tr>\n",
       "    <tr>\n",
       "      <th>101</th>\n",
       "      <td>1</td>\n",
       "      <td>2012-01-13</td>\n",
       "      <td>1,459,601.17</td>\n",
       "      <td>0</td>\n",
       "      <td>48.53</td>\n",
       "      <td>3.26</td>\n",
       "      <td>219.89</td>\n",
       "      <td>7.35</td>\n",
       "      <td>2012-01</td>\n",
       "      <td>(7.139, 7.545]</td>\n",
       "    </tr>\n",
       "    <tr>\n",
       "      <th>102</th>\n",
       "      <td>1</td>\n",
       "      <td>2012-01-20</td>\n",
       "      <td>1,394,393.84</td>\n",
       "      <td>0</td>\n",
       "      <td>54.11</td>\n",
       "      <td>3.27</td>\n",
       "      <td>219.99</td>\n",
       "      <td>7.35</td>\n",
       "      <td>2012-01</td>\n",
       "      <td>(7.139, 7.545]</td>\n",
       "    </tr>\n",
       "    <tr>\n",
       "      <th>103</th>\n",
       "      <td>1</td>\n",
       "      <td>2012-01-27</td>\n",
       "      <td>1,319,325.59</td>\n",
       "      <td>0</td>\n",
       "      <td>54.26</td>\n",
       "      <td>3.29</td>\n",
       "      <td>220.08</td>\n",
       "      <td>7.35</td>\n",
       "      <td>2012-01</td>\n",
       "      <td>(7.139, 7.545]</td>\n",
       "    </tr>\n",
       "    <tr>\n",
       "      <th>104</th>\n",
       "      <td>1</td>\n",
       "      <td>2012-02-03</td>\n",
       "      <td>1,636,339.65</td>\n",
       "      <td>0</td>\n",
       "      <td>56.55</td>\n",
       "      <td>3.36</td>\n",
       "      <td>220.17</td>\n",
       "      <td>7.35</td>\n",
       "      <td>2012-02</td>\n",
       "      <td>(7.139, 7.545]</td>\n",
       "    </tr>\n",
       "  </tbody>\n",
       "</table>\n",
       "</div>"
      ],
      "text/plain": [
       "     Store       Date  Weekly_Sales  Holiday_Flag  Temperature  Fuel_Price  \\\n",
       "100      1 2012-01-06  1,550,369.92             0        49.01        3.16   \n",
       "101      1 2012-01-13  1,459,601.17             0        48.53        3.26   \n",
       "102      1 2012-01-20  1,394,393.84             0        54.11        3.27   \n",
       "103      1 2012-01-27  1,319,325.59             0        54.26        3.29   \n",
       "104      1 2012-02-03  1,636,339.65             0        56.55        3.36   \n",
       "\n",
       "       CPI  Unemployment fecha_mes cat_Unemployment  \n",
       "100 219.71          7.35   2012-01   (7.139, 7.545]  \n",
       "101 219.89          7.35   2012-01   (7.139, 7.545]  \n",
       "102 219.99          7.35   2012-01   (7.139, 7.545]  \n",
       "103 220.08          7.35   2012-01   (7.139, 7.545]  \n",
       "104 220.17          7.35   2012-02   (7.139, 7.545]  "
      ]
     },
     "execution_count": 17,
     "metadata": {},
     "output_type": "execute_result"
    }
   ],
   "source": [
    "# Filtramos datos ventas 2011 y 2012\n",
    "ventas2011 = datos[(datos['Date'] >= '20110101') & (datos['Date'] <= '20111031')]\n",
    "ventas2012 = datos[(datos['Date'] >= '20120101') & (datos['Date'] <= '20121031')]\n",
    "ventas2012.head()"
   ]
  },
  {
   "cell_type": "code",
   "execution_count": 18,
   "metadata": {},
   "outputs": [
    {
     "data": {
      "text/html": [
       "<div>\n",
       "<style scoped>\n",
       "    .dataframe tbody tr th:only-of-type {\n",
       "        vertical-align: middle;\n",
       "    }\n",
       "\n",
       "    .dataframe tbody tr th {\n",
       "        vertical-align: top;\n",
       "    }\n",
       "\n",
       "    .dataframe thead th {\n",
       "        text-align: right;\n",
       "    }\n",
       "</style>\n",
       "<table border=\"1\" class=\"dataframe\">\n",
       "  <thead>\n",
       "    <tr style=\"text-align: right;\">\n",
       "      <th></th>\n",
       "      <th>Store</th>\n",
       "      <th>Ventas2012</th>\n",
       "    </tr>\n",
       "  </thead>\n",
       "  <tbody>\n",
       "    <tr>\n",
       "      <th>0</th>\n",
       "      <td>1</td>\n",
       "      <td>68,202,058.02</td>\n",
       "    </tr>\n",
       "    <tr>\n",
       "      <th>1</th>\n",
       "      <td>2</td>\n",
       "      <td>81,496,695.37</td>\n",
       "    </tr>\n",
       "    <tr>\n",
       "      <th>2</th>\n",
       "      <td>3</td>\n",
       "      <td>18,024,439.50</td>\n",
       "    </tr>\n",
       "    <tr>\n",
       "      <th>3</th>\n",
       "      <td>4</td>\n",
       "      <td>92,771,189.24</td>\n",
       "    </tr>\n",
       "    <tr>\n",
       "      <th>4</th>\n",
       "      <td>5</td>\n",
       "      <td>14,168,838.13</td>\n",
       "    </tr>\n",
       "  </tbody>\n",
       "</table>\n",
       "</div>"
      ],
      "text/plain": [
       "   Store    Ventas2012\n",
       "0      1 68,202,058.02\n",
       "1      2 81,496,695.37\n",
       "2      3 18,024,439.50\n",
       "3      4 92,771,189.24\n",
       "4      5 14,168,838.13"
      ]
     },
     "execution_count": 18,
     "metadata": {},
     "output_type": "execute_result"
    }
   ],
   "source": [
    "# Ventas totales por tienda 2011 y 2012\n",
    "ventas2011_Store = ventas2011.groupby('Store')['Weekly_Sales'].sum().reset_index()\n",
    "ventas2011_Store = ventas2011_Store.rename(columns={'Weekly_Sales':'Ventas2011'})\n",
    "\n",
    "ventas2012_Store = ventas2012.groupby('Store')['Weekly_Sales'].sum().reset_index()\n",
    "ventas2012_Store = ventas2012_Store.rename(columns={'Weekly_Sales':'Ventas2012'})\n",
    "\n",
    "ventas2012_Store.head(5)"
   ]
  },
  {
   "cell_type": "code",
   "execution_count": 19,
   "metadata": {},
   "outputs": [
    {
     "data": {
      "text/html": [
       "<div>\n",
       "<style scoped>\n",
       "    .dataframe tbody tr th:only-of-type {\n",
       "        vertical-align: middle;\n",
       "    }\n",
       "\n",
       "    .dataframe tbody tr th {\n",
       "        vertical-align: top;\n",
       "    }\n",
       "\n",
       "    .dataframe thead th {\n",
       "        text-align: right;\n",
       "    }\n",
       "</style>\n",
       "<table border=\"1\" class=\"dataframe\">\n",
       "  <thead>\n",
       "    <tr style=\"text-align: right;\">\n",
       "      <th></th>\n",
       "      <th>Store</th>\n",
       "      <th>Ventas2011</th>\n",
       "      <th>Ventas2012</th>\n",
       "      <th>ptg_aumento</th>\n",
       "    </tr>\n",
       "  </thead>\n",
       "  <tbody>\n",
       "    <tr>\n",
       "      <th>0</th>\n",
       "      <td>1</td>\n",
       "      <td>65,024,351.29</td>\n",
       "      <td>68,202,058.02</td>\n",
       "      <td>0.05</td>\n",
       "    </tr>\n",
       "    <tr>\n",
       "      <th>1</th>\n",
       "      <td>2</td>\n",
       "      <td>78,433,649.41</td>\n",
       "      <td>81,496,695.37</td>\n",
       "      <td>0.04</td>\n",
       "    </tr>\n",
       "    <tr>\n",
       "      <th>2</th>\n",
       "      <td>3</td>\n",
       "      <td>16,580,098.11</td>\n",
       "      <td>18,024,439.50</td>\n",
       "      <td>0.09</td>\n",
       "    </tr>\n",
       "    <tr>\n",
       "      <th>3</th>\n",
       "      <td>4</td>\n",
       "      <td>88,214,551.63</td>\n",
       "      <td>92,771,189.24</td>\n",
       "      <td>0.05</td>\n",
       "    </tr>\n",
       "    <tr>\n",
       "      <th>4</th>\n",
       "      <td>5</td>\n",
       "      <td>13,058,039.83</td>\n",
       "      <td>14,168,838.13</td>\n",
       "      <td>0.09</td>\n",
       "    </tr>\n",
       "  </tbody>\n",
       "</table>\n",
       "</div>"
      ],
      "text/plain": [
       "   Store    Ventas2011    Ventas2012  ptg_aumento\n",
       "0      1 65,024,351.29 68,202,058.02         0.05\n",
       "1      2 78,433,649.41 81,496,695.37         0.04\n",
       "2      3 16,580,098.11 18,024,439.50         0.09\n",
       "3      4 88,214,551.63 92,771,189.24         0.05\n",
       "4      5 13,058,039.83 14,168,838.13         0.09"
      ]
     },
     "execution_count": 19,
     "metadata": {},
     "output_type": "execute_result"
    }
   ],
   "source": [
    "# Unificamos resultados 2011 y 2012\n",
    "ventas_Store = pd.merge(ventas2011_Store,ventas2012_Store,on='Store',how='left')\n",
    "\n",
    "# Calculamos porcentaje de aumento año vs año\n",
    "ventas_Store['ptg_aumento'] = (ventas_Store['Ventas2012'] - ventas_Store['Ventas2011']) / ventas_Store['Ventas2011']\n",
    "ventas_Store.head()"
   ]
  },
  {
   "cell_type": "code",
   "execution_count": 20,
   "metadata": {},
   "outputs": [
    {
     "data": {
      "text/html": [
       "<div>\n",
       "<style scoped>\n",
       "    .dataframe tbody tr th:only-of-type {\n",
       "        vertical-align: middle;\n",
       "    }\n",
       "\n",
       "    .dataframe tbody tr th {\n",
       "        vertical-align: top;\n",
       "    }\n",
       "\n",
       "    .dataframe thead th {\n",
       "        text-align: right;\n",
       "    }\n",
       "</style>\n",
       "<table border=\"1\" class=\"dataframe\">\n",
       "  <thead>\n",
       "    <tr style=\"text-align: right;\">\n",
       "      <th></th>\n",
       "      <th>Store</th>\n",
       "      <th>Ventas2011</th>\n",
       "      <th>Ventas2012</th>\n",
       "      <th>ptg_aumento</th>\n",
       "    </tr>\n",
       "  </thead>\n",
       "  <tbody>\n",
       "    <tr>\n",
       "      <th>37</th>\n",
       "      <td>38</td>\n",
       "      <td>16,293,630.30</td>\n",
       "      <td>18,631,073.45</td>\n",
       "      <td>0.14</td>\n",
       "    </tr>\n",
       "    <tr>\n",
       "      <th>43</th>\n",
       "      <td>44</td>\n",
       "      <td>12,719,268.57</td>\n",
       "      <td>14,187,373.72</td>\n",
       "      <td>0.12</td>\n",
       "    </tr>\n",
       "    <tr>\n",
       "      <th>38</th>\n",
       "      <td>39</td>\n",
       "      <td>59,419,916.86</td>\n",
       "      <td>65,885,662.85</td>\n",
       "      <td>0.11</td>\n",
       "    </tr>\n",
       "    <tr>\n",
       "      <th>2</th>\n",
       "      <td>3</td>\n",
       "      <td>16,580,098.11</td>\n",
       "      <td>18,024,439.50</td>\n",
       "      <td>0.09</td>\n",
       "    </tr>\n",
       "    <tr>\n",
       "      <th>4</th>\n",
       "      <td>5</td>\n",
       "      <td>13,058,039.83</td>\n",
       "      <td>14,168,838.13</td>\n",
       "      <td>0.09</td>\n",
       "    </tr>\n",
       "  </tbody>\n",
       "</table>\n",
       "</div>"
      ],
      "text/plain": [
       "    Store    Ventas2011    Ventas2012  ptg_aumento\n",
       "37     38 16,293,630.30 18,631,073.45         0.14\n",
       "43     44 12,719,268.57 14,187,373.72         0.12\n",
       "38     39 59,419,916.86 65,885,662.85         0.11\n",
       "2       3 16,580,098.11 18,024,439.50         0.09\n",
       "4       5 13,058,039.83 14,168,838.13         0.09"
      ]
     },
     "execution_count": 20,
     "metadata": {},
     "output_type": "execute_result"
    }
   ],
   "source": [
    "# Top 5 tiendas con mayor aumento en ventas\n",
    "ventas_Store.sort_values(by='ptg_aumento',ascending=False).head(5)"
   ]
  },
  {
   "cell_type": "code",
   "execution_count": 21,
   "metadata": {},
   "outputs": [
    {
     "data": {
      "text/html": [
       "<div>\n",
       "<style scoped>\n",
       "    .dataframe tbody tr th:only-of-type {\n",
       "        vertical-align: middle;\n",
       "    }\n",
       "\n",
       "    .dataframe tbody tr th {\n",
       "        vertical-align: top;\n",
       "    }\n",
       "\n",
       "    .dataframe thead th {\n",
       "        text-align: right;\n",
       "    }\n",
       "</style>\n",
       "<table border=\"1\" class=\"dataframe\">\n",
       "  <thead>\n",
       "    <tr style=\"text-align: right;\">\n",
       "      <th></th>\n",
       "      <th>Store</th>\n",
       "      <th>Ventas2011</th>\n",
       "      <th>Ventas2012</th>\n",
       "      <th>ptg_aumento</th>\n",
       "    </tr>\n",
       "  </thead>\n",
       "  <tbody>\n",
       "    <tr>\n",
       "      <th>35</th>\n",
       "      <td>36</td>\n",
       "      <td>16,105,178.75</td>\n",
       "      <td>13,286,470.53</td>\n",
       "      <td>-0.18</td>\n",
       "    </tr>\n",
       "    <tr>\n",
       "      <th>13</th>\n",
       "      <td>14</td>\n",
       "      <td>84,694,723.98</td>\n",
       "      <td>77,441,398.26</td>\n",
       "      <td>-0.09</td>\n",
       "    </tr>\n",
       "    <tr>\n",
       "      <th>20</th>\n",
       "      <td>21</td>\n",
       "      <td>31,846,447.79</td>\n",
       "      <td>30,251,886.71</td>\n",
       "      <td>-0.05</td>\n",
       "    </tr>\n",
       "    <tr>\n",
       "      <th>26</th>\n",
       "      <td>27</td>\n",
       "      <td>73,855,571.74</td>\n",
       "      <td>71,920,056.12</td>\n",
       "      <td>-0.03</td>\n",
       "    </tr>\n",
       "    <tr>\n",
       "      <th>14</th>\n",
       "      <td>15</td>\n",
       "      <td>25,264,056.33</td>\n",
       "      <td>24,827,530.71</td>\n",
       "      <td>-0.02</td>\n",
       "    </tr>\n",
       "  </tbody>\n",
       "</table>\n",
       "</div>"
      ],
      "text/plain": [
       "    Store    Ventas2011    Ventas2012  ptg_aumento\n",
       "35     36 16,105,178.75 13,286,470.53        -0.18\n",
       "13     14 84,694,723.98 77,441,398.26        -0.09\n",
       "20     21 31,846,447.79 30,251,886.71        -0.05\n",
       "26     27 73,855,571.74 71,920,056.12        -0.03\n",
       "14     15 25,264,056.33 24,827,530.71        -0.02"
      ]
     },
     "execution_count": 21,
     "metadata": {},
     "output_type": "execute_result"
    }
   ],
   "source": [
    "# Top 5 tiendas con mayor decremento en ventas\n",
    "ventas_Store.sort_values(by='ptg_aumento',ascending=True).head(5)"
   ]
  }
 ],
 "metadata": {
  "kernelspec": {
   "display_name": "Python 3",
   "language": "python",
   "name": "python3"
  },
  "language_info": {
   "codemirror_mode": {
    "name": "ipython",
    "version": 3
   },
   "file_extension": ".py",
   "mimetype": "text/x-python",
   "name": "python",
   "nbconvert_exporter": "python",
   "pygments_lexer": "ipython3",
   "version": "3.11.4"
  }
 },
 "nbformat": 4,
 "nbformat_minor": 2
}
